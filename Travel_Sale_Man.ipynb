{
 "cells": [
  {
   "cell_type": "markdown",
   "id": "5e7ed6a8",
   "metadata": {},
   "source": [
    "### APIs Request\n",
    "using google maps API to create distance Matrix"
   ]
  },
  {
   "cell_type": "code",
   "execution_count": null,
   "id": "c8b82eed",
   "metadata": {},
   "outputs": [],
   "source": []
  }
 ],
 "metadata": {
  "kernelspec": {
   "display_name": "Python 3.8 (tensorflow)",
   "language": "python",
   "name": "lighthouse"
  },
  "language_info": {
   "codemirror_mode": {
    "name": "ipython",
    "version": 3
   },
   "file_extension": ".py",
   "mimetype": "text/x-python",
   "name": "python",
   "nbconvert_exporter": "python",
   "pygments_lexer": "ipython3",
   "version": "3.9.13"
  }
 },
 "nbformat": 4,
 "nbformat_minor": 5
}
